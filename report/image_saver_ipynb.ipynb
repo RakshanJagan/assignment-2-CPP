{
 "cells": [
  {
   "cell_type": "code",
   "execution_count": 2,
   "metadata": {},
   "outputs": [
    {
     "name": "stdout",
     "output_type": "stream",
     "text": [
      "Image saved as JPEG at: D:\\MCW\\Assignment-2\\resized_image_cifar.jpeg\n",
      "Image saved as binary at: D:\\MCW\\Assignment-2\\resized_image_binary.bin\n"
     ]
    },
    {
     "data": {
      "image/png": "[encoded data removed]",
      "text/plain": [
       "<Figure size 640x480 with 1 Axes>"
      ]
     },
     "metadata": {},
     "output_type": "display_data"
    }
   ],
   "source": [
    "import tensorflow as tf\n",
    "from PIL import Image\n",
    "import numpy as np\n",
    "import matplotlib.pyplot as plt\n",
    "\n",
    "# Load CIFAR-10 dataset\n",
    "(x_train, y_train), (x_test, y_test) = tf.keras.datasets.cifar10.load_data()\n",
    "\n",
    "# Select the image (e.g., index 3451)\n",
    "image = x_train[3451]\n",
    "\n",
    "# Convert the NumPy array to a PIL Image object\n",
    "image_pil = Image.fromarray(image)\n",
    "\n",
    "# Save the image as a JPEG file\n",
    "jpeg_file_path = \"D:\\\\MCW\\\\Assignment-2\\\\resized_image_cifar.jpeg\"\n",
    "image_pil.save(jpeg_file_path, 'JPEG')\n",
    "print(f\"Image saved as JPEG at: {jpeg_file_path}\")\n",
    "\n",
    "# Convert the image to a binary format (byte array)\n",
    "image_binary = image.tobytes()\n",
    "\n",
    "# Save the binary data to a file\n",
    "binary_file_path = \"D:\\\\MCW\\\\Assignment-2\\\\resized_image_binary.bin\"\n",
    "with open(binary_file_path, 'wb') as f:\n",
    "    f.write(image_binary)\n",
    "print(f\"Image saved as binary at: {binary_file_path}\")\n",
    "\n",
    "# Now show the saved image using PIL\n",
    "image_pil.show()\n",
    "\n",
    "# Alternatively, use matplotlib to display the image inline (if running in a Jupyter notebook or similar environment)\n",
    "plt.imshow(image)\n",
    "plt.axis('off')  # Hide the axes for a cleaner look\n",
    "plt.show()\n"
   ]
  }
 ],
 "metadata": {
  "kernelspec": {
   "display_name": "Python 3",
   "language": "python",
   "name": "python3"
  },
  "language_info": {
   "codemirror_mode": {
    "name": "ipython",
    "version": 3
   },
   "file_extension": ".py",
   "mimetype": "text/x-python",
   "name": "python",
   "nbconvert_exporter": "python",
   "pygments_lexer": "ipython3",
   "version": "3.12.0"
  }
 },
 "nbformat": 4,
 "nbformat_minor": 2
}
