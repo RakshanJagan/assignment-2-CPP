{
 "cells": [
  {
   "cell_type": "code",
   "execution_count": 1,
   "metadata": {},
   "outputs": [
    {
     "name": "stdout",
     "output_type": "stream",
     "text": [
      "\u001b[1m1/1\u001b[0m \u001b[32m━━━━━━━━━━━━━━━━━━━━\u001b[0m\u001b[37m\u001b[0m \u001b[1m1s\u001b[0m 634ms/step\n",
      "Class probabilities:\n",
      "Airplane: 0.0011\n",
      "Automobile: 0.0000\n",
      "Bird: 0.0024\n",
      "Cat: 0.0223\n",
      "Deer: 0.0000\n",
      "Dog: 0.9327\n",
      "Frog: 0.0000\n",
      "Horse: 0.0024\n",
      "Ship: 0.0125\n",
      "Truck: 0.0267\n",
      "\n",
      "Predicted class: Dog with probability: 0.9327\n"
     ]
    },
    {
     "data": {
      "image/png": "[encoded data removed]",
      "text/plain": [
       "<Figure size 640x480 with 1 Axes>"
      ]
     },
     "metadata": {},
     "output_type": "display_data"
    }
   ],
   "source": [
    "import tensorflow as tf\n",
    "import numpy as np\n",
    "from tensorflow.keras.preprocessing import image\n",
    "import matplotlib.pyplot as plt\n",
    "\n",
    "# CIFAR-10 class labels\n",
    "class_labels = ['Airplane', 'Automobile', 'Bird', 'Cat', 'Deer', 'Dog', 'Frog', 'Horse', 'Ship', 'Truck']\n",
    "\n",
    "def classify_image(model, img_path):\n",
    "    # Step 1: Load and preprocess the image\n",
    "    img = image.load_img(img_path, target_size=(32, 32))  # CIFAR-10 images are 32x32\n",
    "    img_array = image.img_to_array(img)  # Convert the image to a NumPy array\n",
    "    img_array = np.expand_dims(img_array, axis=0)  # Add batch dimension (for a single image)\n",
    "    img_array = img_array / 255.0  # Normalize the image (optional, depending on the model)\n",
    "\n",
    "    # Step 2: Predict class probabilities\n",
    "    predictions = model.predict(img_array)  # Get model's predicted class probabilities\n",
    "\n",
    "    # Step 3: Print probabilities for all classes\n",
    "    print(\"Class probabilities:\")\n",
    "    for i, prob in enumerate(predictions[0]):\n",
    "        print(f\"{class_labels[i]}: {prob:.4f}\")\n",
    "\n",
    "    # Step 4: Find the class with the highest probability\n",
    "    predicted_class_index = np.argmax(predictions)  # Index of the highest probability\n",
    "    predicted_class_label = class_labels[predicted_class_index]  # Get class label\n",
    "\n",
    "    # Print the highest class probability and its label\n",
    "    print(f\"\\nPredicted class: {predicted_class_label} with probability: {predictions[0][predicted_class_index]:.4f}\")\n",
    "\n",
    "    # Optionally: Display the image\n",
    "    plt.imshow(img)\n",
    "    plt.axis('off')  # Remove axes for better visualization\n",
    "    plt.show()\n",
    "\n",
    "# Example usage:\n",
    "# Load your pretrained model (e.g., CIFAR-10 model or any custom model you have)\n",
    "model = tf.keras.models.load_model('D:/MCW/Assignment-1/DATA_AUG.keras')  # Load the model properly\n",
    "\n",
    "# Path to your image\n",
    "img_path = \"D:/MCW/Assignment-2/resized_image_cifar.jpeg\"  # Replace with the path to your image\n",
    "\n",
    "# Classify and print probabilities for all classes\n",
    "classify_image(model, img_path)\n"
   ]
  }
 ],
 "metadata": {
  "kernelspec": {
   "display_name": "Python 3",
   "language": "python",
   "name": "python3"
  },
  "language_info": {
   "codemirror_mode": {
    "name": "ipython",
    "version": 3
   },
   "file_extension": ".py",
   "mimetype": "text/x-python",
   "name": "python",
   "nbconvert_exporter": "python",
   "pygments_lexer": "ipython3",
   "version": "3.12.0"
  }
 },
 "nbformat": 4,
 "nbformat_minor": 2
}
